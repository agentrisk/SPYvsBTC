{
 "cells": [
  {
   "cell_type": "code",
   "execution_count": 487,
   "metadata": {},
   "outputs": [],
   "source": [
    "import numpy as np\n",
    "import pandas as pd\n",
    "import matplotlib\n",
    "import matplotlib.dates as mdates\n",
    "from datetime import datetime\n",
    "import matplotlib.pyplot as plt\n",
    "from alpha_vantage.timeseries import TimeSeries\n",
    "from alpha_vantage.cryptocurrencies import CryptoCurrencies"
   ]
  },
  {
   "cell_type": "markdown",
   "metadata": {},
   "source": [
    "# Put your AlphaVantage key here to download BTC and SPY data"
   ]
  },
  {
   "cell_type": "code",
   "execution_count": 488,
   "metadata": {},
   "outputs": [],
   "source": [
    "_ALPHA_VANTAGE_API_KEY = \"YOU_KEY_HERE\""
   ]
  },
  {
   "cell_type": "code",
   "execution_count": 399,
   "metadata": {},
   "outputs": [],
   "source": [
    "def get_asset_historical_data(symbol, from_date, to_date):\n",
    "    ts_pandas = TimeSeries(_ALPHA_VANTAGE_API_KEY, output_format=\"pandas\")\n",
    "    prices, meta_data = ts_pandas.get_daily_adjusted(\n",
    "        symbol, outputsize=\"full\")\n",
    "    prices = prices[(prices.index >= from_date) & (\n",
    "        prices.index <= to_date)][\"5. adjusted close\"]\n",
    "    return prices"
   ]
  },
  {
   "cell_type": "markdown",
   "metadata": {},
   "source": [
    "# We get the prices for SPY and BTC for 2019"
   ]
  },
  {
   "cell_type": "code",
   "execution_count": 401,
   "metadata": {},
   "outputs": [],
   "source": [
    "cc = CryptoCurrencies(key=_ALPHA_VANTAGE_API_KEY, output_format='pandas')\n",
    "data, meta_data = cc.get_digital_currency_daily(symbol='BTC', market='CNY')\n",
    "btc = data[(data.index >= '2019-01-01') &\n",
    "           (data.index <= '2019-12-31')]['4b. close (USD)']\n",
    "SPY = get_asset_historical_data('SPY', '2019-01-01', '2019-12-31')"
   ]
  },
  {
   "cell_type": "markdown",
   "metadata": {},
   "source": [
    "# Then we calculate the performance of all trades until the end of the year"
   ]
  },
  {
   "cell_type": "code",
   "execution_count": 402,
   "metadata": {},
   "outputs": [],
   "source": [
    "def calculatePerformaces(prices):\n",
    "    performances = {}\n",
    "    for i in range(0, len(prices)):\n",
    "        performances[prices.index[i]] = float((prices[-1] - prices[i])/prices[-1]*100)\n",
    "    return(performances)"
   ]
  },
  {
   "cell_type": "code",
   "execution_count": 403,
   "metadata": {},
   "outputs": [],
   "source": [
    "btcPerf = calculatePerformaces(btc)"
   ]
  },
  {
   "cell_type": "code",
   "execution_count": 404,
   "metadata": {},
   "outputs": [],
   "source": [
    "SPYPerf = calculatePerformaces(SPY)"
   ]
  },
  {
   "cell_type": "markdown",
   "metadata": {},
   "source": [
    "# Calculate the performance difference between the asset, per day"
   ]
  },
  {
   "cell_type": "code",
   "execution_count": 458,
   "metadata": {},
   "outputs": [],
   "source": [
    "SPYvsBTC = {}\n",
    "for k in btc.keys():\n",
    "    if k in SPYPerf.keys():\n",
    "        SPYvsBTC[k] = float(SPYPerf[k] - btcPerf[k])\n",
    "    else:\n",
    "        SPYvsBTC[k] = float(np.nan)"
   ]
  },
  {
   "cell_type": "code",
   "execution_count": 459,
   "metadata": {},
   "outputs": [],
   "source": [
    "total_num_of_data = len(list(filter(lambda x: x is not np.nan, SPYvsBTC.values())))"
   ]
  },
  {
   "cell_type": "code",
   "execution_count": 460,
   "metadata": {},
   "outputs": [],
   "source": [
    "SPYWon = list((filter(lambda x: x>0, (filter(lambda x: x is not np.nan, SPYvsBTC.values())))))"
   ]
  },
  {
   "cell_type": "markdown",
   "metadata": {},
   "source": [
    "# Percentage of times that SPY beat BTC in 2019"
   ]
  },
  {
   "cell_type": "code",
   "execution_count": 461,
   "metadata": {},
   "outputs": [
    {
     "data": {
      "text/plain": [
       "0.6309523809523809"
      ]
     },
     "execution_count": 461,
     "metadata": {},
     "output_type": "execute_result"
    }
   ],
   "source": [
    "len(SPYWon)/total_num_of_data"
   ]
  },
  {
   "cell_type": "markdown",
   "metadata": {},
   "source": [
    "# Times BTC trading had negative performance"
   ]
  },
  {
   "cell_type": "code",
   "execution_count": 482,
   "metadata": {},
   "outputs": [
    {
     "data": {
      "text/plain": [
       "221"
      ]
     },
     "execution_count": 482,
     "metadata": {},
     "output_type": "execute_result"
    }
   ],
   "source": [
    "len(list(filter(lambda x: x<0, btcPerf.values())))"
   ]
  },
  {
   "cell_type": "markdown",
   "metadata": {},
   "source": [
    "# Maximum and minimum performance of both of the assets"
   ]
  },
  {
   "cell_type": "code",
   "execution_count": 469,
   "metadata": {
    "scrolled": true
   },
   "outputs": [
    {
     "data": {
      "text/plain": [
       "(52.7687092698913, -81.97889435084078)"
      ]
     },
     "execution_count": 469,
     "metadata": {},
     "output_type": "execute_result"
    }
   ],
   "source": [
    "max(btcPerf.values()), min(btcPerf.values())"
   ]
  },
  {
   "cell_type": "code",
   "execution_count": 470,
   "metadata": {},
   "outputs": [
    {
     "data": {
      "text/plain": [
       "(25.534238488783945, -0.3355496178462636)"
      ]
     },
     "execution_count": 470,
     "metadata": {},
     "output_type": "execute_result"
    }
   ],
   "source": [
    "max(SPYPerf.values()), min(SPYPerf.values())"
   ]
  },
  {
   "cell_type": "markdown",
   "metadata": {},
   "source": [
    "# BTC: Total loss of capital"
   ]
  },
  {
   "cell_type": "code",
   "execution_count": 473,
   "metadata": {},
   "outputs": [],
   "source": [
    "bLoss = {}\n",
    "for k in btcPerf.keys():\n",
    "    if btcPerf[k] < -50:\n",
    "        bLoss[k] = 0\n",
    "    else:\n",
    "        bLoss[k] = 1"
   ]
  },
  {
   "cell_type": "code",
   "execution_count": 474,
   "metadata": {},
   "outputs": [],
   "source": [
    "events = pd.Series(list(bLoss.values()), index=pd.DatetimeIndex(bLoss.keys()))"
   ]
  },
  {
   "cell_type": "code",
   "execution_count": 481,
   "metadata": {
    "scrolled": true
   },
   "outputs": [
    {
     "data": {
      "text/plain": [
       "<matplotlib.axes._subplots.AxesSubplot at 0x134af03d0>"
      ]
     },
     "execution_count": 481,
     "metadata": {},
     "output_type": "execute_result"
    },
    {
     "data": {
      "image/png": "[encoded data removed]",
      "text/plain": [
       "<Figure size 1440x1440 with 1 Axes>"
      ]
     },
     "metadata": {
      "needs_background": "light"
     },
     "output_type": "display_data"
    }
   ],
   "source": [
    "plt.rcParams['figure.figsize'] = [20, 20]\n",
    "calmap.yearplot(events, year=2019, dayticks=[0, 2, 4, 6], cmap='Wistia_r')"
   ]
  },
  {
   "cell_type": "markdown",
   "metadata": {},
   "source": [
    "# Performance difference between SPY and BTC"
   ]
  },
  {
   "cell_type": "code",
   "execution_count": 486,
   "metadata": {},
   "outputs": [
    {
     "data": {
      "text/plain": [
       "[<matplotlib.lines.Line2D at 0x135698050>]"
      ]
     },
     "execution_count": 486,
     "metadata": {},
     "output_type": "execute_result"
    },
    {
     "data": {
      "image/png": "[encoded data removed]",
      "text/plain": [
       "<Figure size 720x720 with 1 Axes>"
      ]
     },
     "metadata": {
      "needs_background": "light"
     },
     "output_type": "display_data"
    }
   ],
   "source": [
    "plt.rcParams['figure.figsize'] = [10, 10]\n",
    "new_x = mdates.datestr2num(list(SPYvsBTC.keys()))\n",
    "plt.xlabel('Date')\n",
    "plt.ylabel('Performance diff')\n",
    "plt.title('Performance difference per day between SPY and BTC')\n",
    "vals = np.array(list(SPYvsBTC.values())).astype(np.double)\n",
    "\n",
    "plt.plot_date(x=new_x, y=vals, marker='o')"
   ]
  },
  {
   "cell_type": "markdown",
   "metadata": {},
   "source": [
    "# Histogram of performance for both assets"
   ]
  },
  {
   "cell_type": "code",
   "execution_count": 484,
   "metadata": {},
   "outputs": [
    {
     "data": {
      "image/png": "[encoded data removed]",
      "text/plain": [
       "<Figure size 720x720 with 1 Axes>"
      ]
     },
     "metadata": {
      "needs_background": "light"
     },
     "output_type": "display_data"
    }
   ],
   "source": [
    "num_bins = 60\n",
    "colors = ['slategray', 'plum']\n",
    "n, bins, patches = plt.hist([list(SPYPerf.values()),list(btcPerf.values())], num_bins, histtype='bar', color=colors, label=['SPY', 'BTC'])\n",
    "plt.legend(prop={'size': 10})\n",
    "plt.xlabel('Performance (%)')\n",
    "plt.ylabel('Frequency')\n",
    "plt.title('Performance of trades in 2019')\n",
    "plt.show()"
   ]
  }
 ],
 "metadata": {
  "kernelspec": {
   "display_name": "Python 3",
   "language": "python",
   "name": "python3"
  },
  "language_info": {
   "codemirror_mode": {
    "name": "ipython",
    "version": 3
   },
   "file_extension": ".py",
   "mimetype": "text/x-python",
   "name": "python",
   "nbconvert_exporter": "python",
   "pygments_lexer": "ipython3",
   "version": "3.7.4"
  }
 },
 "nbformat": 4,
 "nbformat_minor": 2
}
